{
 "cells": [
  {
   "cell_type": "markdown",
   "metadata": {},
   "source": [
    "### 1. 关于循环"
   ]
  },
  {
   "cell_type": "markdown",
   "metadata": {},
   "source": [
    "当使用 while 循环的时候，我们需要确定自己的循环步数加一的位置，因为如果在循环中需要给矩阵赋值的话，需要确定第几次循环得到的结果赋值到对应的矩阵的某个位置，一旦位置没有对应的话，会有两种情况发生:  \n",
    "\n",
    "+ 要么不报错，但是附的值不在我们希望的位置上\n",
    "+ 要么最后一次赋值，超出矩阵的索引"
   ]
  },
  {
   "cell_type": "code",
   "execution_count": null,
   "metadata": {},
   "outputs": [],
   "source": []
  }
 ],
 "metadata": {
  "kernelspec": {
   "display_name": "Python 3",
   "language": "python",
   "name": "python3"
  },
  "language_info": {
   "codemirror_mode": {
    "name": "ipython",
    "version": 3
   },
   "file_extension": ".py",
   "mimetype": "text/x-python",
   "name": "python",
   "nbconvert_exporter": "python",
   "pygments_lexer": "ipython3",
   "version": "3.5.2"
  }
 },
 "nbformat": 4,
 "nbformat_minor": 2
}
