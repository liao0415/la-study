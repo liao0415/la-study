{
 "cells": [
  {
   "cell_type": "markdown",
   "metadata": {},
   "source": [
    "## FAS "
   ]
  },
  {
   "cell_type": "markdown",
   "metadata": {},
   "source": [
    "### 1. 非线性迭代  "
   ]
  },
  {
   "cell_type": "markdown",
   "metadata": {},
   "source": [
    "我们使用 PR 迭代方法解耦非线性和限制。\n",
    "首先，我们通过解线性系统得到初值 $\\boldsymbol{u}_k^0,p_k^0$:"
   ]
  },
  {
   "cell_type": "markdown",
   "metadata": {},
   "source": [
    "\\begin{equation*}\n",
    "\\frac{\\mu}{\\rho}\\int_{\\Omega}(\\boldsymbol{K}^{-1}\\boldsymbol{u}_k^0)\\cdot\\boldsymbol{\\phi}_k dx\n",
    "\\end{equation*}"
   ]
  },
  {
   "cell_type": "markdown",
   "metadata": {},
   "source": [
    "知道了 $\\boldsymbol{u}_k^0,p_k^0$，构造一个子列 $\\boldsymbol{u}_k^{n+1},p_k^{n+1}$ $(n\\ge 0)$, $\\alpha$ 是一个增强收敛的正的参数。"
   ]
  },
  {
   "cell_type": "markdown",
   "metadata": {},
   "source": [
    "1). 没有约束的非线性迭代:求解 $\\boldsymbol{u}_k^{n+\\frac{1}{2}}$,通过"
   ]
  },
  {
   "cell_type": "markdown",
   "metadata": {},
   "source": [
    "\\begin{equation*}\n",
    " \\boldsymbol{u}_T^{n+\\frac{1}{2}} = \\frac{1}{\\gamma}\\boldsymbol{F}_T^{n+\\frac{1}{2}}\n",
    "\\end{equation*}"
   ]
  },
  {
   "cell_type": "markdown",
   "metadata": {},
   "source": [
    "其中"
   ]
  },
  {
   "cell_type": "markdown",
   "metadata": {},
   "source": [
    "\\begin{equation*}\n",
    " \\boldsymbol{u}_T^{n+\\frac{1}{2}} = \\frac{1}{\\gamma}\\boldsymbol{F}_T^{n+\\frac{1}{2}}\n",
    "\\end{equation*}"
   ]
  },
  {
   "cell_type": "markdown",
   "metadata": {},
   "source": [
    "2)."
   ]
  },
  {
   "cell_type": "markdown",
   "metadata": {},
   "source": [
    "### 2.非线性多重网格的算法"
   ]
  },
  {
   "cell_type": "markdown",
   "metadata": {},
   "source": [
    "**Full Approximation Scheme(FAS)**"
   ]
  },
  {
   "cell_type": "markdown",
   "metadata": {},
   "source": [
    "假设方程为\n",
    "\n",
    "$$\n",
    "\\boldsymbol{L}(z) = s\n",
    "$$"
   ]
  },
  {
   "cell_type": "markdown",
   "metadata": {},
   "source": [
    "首先，给一个初值 ($u^0,P^0$),对它进行前磨光  \n",
    "\n",
    "1. Pre-smoothing: $1 \\le j \\le m$, 通过 $\\boldsymbol{v}^j = R_k\\boldsymbol{v}^{j-1}$对 ($u^0,P^0$)进行 $m$ 次磨光，现在的近似 $\\boldsymbol{v}^j = R_k\\boldsymbol{v}^{j-1}$"
   ]
  },
  {
   "cell_type": "markdown",
   "metadata": {},
   "source": [
    "2. 现在把细网格上的残差和近似解限制到粗网格上: $\\boldsymbol{r}_{k-1} = \\boldsymbol{I}_k^{k-1}(\\boldsymbol{s}_k - \\boldsymbol{L}_k(\\boldsymbol{v}_k))$, $\\boldsymbol{v}_{k-1} = \\boldsymbol{I}_k^{k-1}\\boldsymbol{v}_k$"
   ]
  },
  {
   "cell_type": "markdown",
   "metadata": {},
   "source": [
    "3. 在粗网格上采用直接解法求解问题: $\\boldsymbol{L}_{k-1}(\\boldsymbol{z}_{k-1}) = \\boldsymbol{L}_{k-1}(\\boldsymbol{v}_{k-1}) + \\boldsymbol{r}_k-1$"
   ]
  },
  {
   "cell_type": "markdown",
   "metadata": {},
   "source": [
    "4. 计算粗网格误差的近似: $\\boldsymbol{e}_{k-1} = \\boldsymbol{z}_{k-1} + \\boldsymbol{r}_{k-1}$"
   ]
  },
  {
   "cell_type": "markdown",
   "metadata": {},
   "source": [
    "5. 把 $e_k$ 投到细网格上的，并校正细网格的值: "
   ]
  }
 ],
 "metadata": {
  "kernelspec": {
   "display_name": "Python 3",
   "language": "python",
   "name": "python3"
  }
 },
 "nbformat": 4,
 "nbformat_minor": 2
}
