{
 "cells": [
  {
   "cell_type": "markdown",
   "metadata": {},
   "source": [
    "## FAS "
   ]
  },
  {
   "cell_type": "markdown",
   "metadata": {},
   "source": [
    "### 1. 非线性迭代  "
   ]
  },
  {
   "cell_type": "markdown",
   "metadata": {},
   "source": [
    "我们使用 PR 迭代方法解耦非线性和限制。\n",
    "首先，我们通过解线性系统得到初值 $\\boldsymbol{u}_k^0,p_k^0$:"
   ]
  },
  {
   "cell_type": "markdown",
   "metadata": {},
   "source": [
    "$$\n",
    "\\frac{\\mu}{\\rho}\\int_{\\Omega}(\\boldsymbol{K}^{-1}\\boldsymbol{u}_k^0)\\cdot\\boldsymbol{\\varphi}_k \\mathrm{d}\\boldsymbol{x} + \\sum_{T\\in {\\mathcal{T}_k}}\\int_{T}\\nabla p_k^0\\cdot \\varphi_k \\mathrm{d}\\boldsymbol{x} = \\int_{\\Omega} \\boldsymbol{f}\\cdot \\varphi_k \\mathrm{d}\\boldsymbol{x}, \\,\\ \\forall \\varphi \\in X_k\\quad(1)\n",
    "$$"
   ]
  },
  {
   "cell_type": "markdown",
   "metadata": {},
   "source": [
    "$$\n",
    "\\sum_{T\\in {\\mathcal{T}_k}}\\int_T\\nabla q_k\\cdot \\boldsymbol{u}_k^0 \\mathrm{d}\\boldsymbol{x} = -\\int_{\\Omega}gq_k\\mathrm{d}\\boldsymbol{x} + \\int_{\\partial \\Omega}g_Nq_k \\mathrm{d}\\boldsymbol{x},\\,\\ \\forall q_k\\in M_k.\\qquad(2)\n",
    "$$"
   ]
  },
  {
   "cell_type": "markdown",
   "metadata": {},
   "source": [
    "知道了 $\\boldsymbol{u}_k^0,p_k^0$，构造一个子列 $\\boldsymbol{u}_k^{n+1},p_k^{n+1}$ $(n\\ge 0)$, $\\alpha$ 是一个增强收敛的正的参数。"
   ]
  },
  {
   "cell_type": "markdown",
   "metadata": {},
   "source": [
    "1). 没有约束的非线性迭代:求解 $\\boldsymbol{u}_k^{n+\\frac{1}{2}}$,通过"
   ]
  },
  {
   "cell_type": "markdown",
   "metadata": {},
   "source": [
    "\\begin{equation*}\n",
    " \\boldsymbol{u}_T^{n+\\frac{1}{2}} = \\frac{1}{\\gamma}\\boldsymbol{F}_T^{n+\\frac{1}{2}}\n",
    "\\end{equation*}"
   ]
  },
  {
   "cell_type": "markdown",
   "metadata": {},
   "source": [
    "其中"
   ]
  },
  {
   "cell_type": "markdown",
   "metadata": {},
   "source": [
    "$$\n",
    "\\begin{align}\n",
    " \\boldsymbol{F}_T^{n+\\frac{1}{2}} & = \\frac{1}{\\gamma}\\boldsymbol{u}_T^{n} - \\frac{\\mu}{\\rho}K_T^{-1}\\boldsymbol{u}_T^{n} - \\nabla_Tp_k^n + \\boldsymbol{f}_T\\\\\n",
    " K_T^{-1} & = \\frac{1}{\\left|T\\right|} \\int_{T}K^{-1}(\\boldsymbol x) \\mathrm{d}\\boldsymbol{x} \\\\\n",
    " \\gamma & = \\frac{1}{2\\alpha} + \\frac{1}{2}\\sqrt{\\frac{1}{\\alpha^2} + 4\\frac{\\beta}{\\rho}\\left|\\boldsymbol{F}_T^{n+\\frac{1}{2}}\\right|}\n",
    " \\end{align}\n",
    "$$"
   ]
  },
  {
   "cell_type": "markdown",
   "metadata": {},
   "source": [
    "2). 已知 $\\boldsymbol{u}_k^{n+\\frac{1}{2}}$计算 $(\\boldsymbol{u}_k^{n+1},p_k^{n+1})$:"
   ]
  },
  {
   "cell_type": "markdown",
   "metadata": {},
   "source": [
    "\\begin{equation*}\n",
    "\\begin{bmatrix}\n",
    "A_{\\alpha} & B \\\\\n",
    "B^T & 0\n",
    "\\end{bmatrix}\\begin{bmatrix}\n",
    "\\boldsymbol{u} \\\\\n",
    "p\n",
    "\\end{bmatrix}\n",
    " = \\begin{bmatrix}\n",
    "\\boldsymbol{f}_{n+\\frac{1}{2}}\\\\\n",
    "\\mathit{w}\n",
    "\\end{bmatrix}\n",
    "\\end{equation*}"
   ]
  },
  {
   "cell_type": "markdown",
   "metadata": {},
   "source": [
    "其中"
   ]
  },
  {
   "cell_type": "markdown",
   "metadata": {},
   "source": [
    "$$\n",
    "\\begin{align}\n",
    "A_{\\alpha} & = \\frac{1}{\\alpha}\\int_{\\Omega}(\\boldsymbol{u}_k^{n+1})\\cdot\\varphi_k \\mathrm{d}\\boldsymbol{x} + \\frac{\\mu}{\\rho}\\int_{\\Omega}(K^{-1}\\boldsymbol{u}_k^{n+1})\\cdot\\varphi_k \\mathrm{d}\\boldsymbol{x}\\\\\n",
    "\\\\\n",
    "B & = \\sum_{T\\in {\\mathcal{T}_k}}\\int_{T}\\nabla p_k^{n+1}\\cdot \\varphi_k \\mathrm{d}\\boldsymbol{x} \\\\\n",
    "\\\\\n",
    "\\boldsymbol{f}_{n+\\frac{1}{2}} & = \\int_{\\Omega}\\boldsymbol{f}\\cdot \\varphi_k \\mathrm{d}\\boldsymbol{x} + \\frac{1}{\\alpha} \\int_{\\Omega}\\boldsymbol{u}_k^{n+\\frac{1}{2}}\\cdot\\varphi_k \\mathrm{d}\\boldsymbol{x} - \\frac{\\beta}{\\rho}\\int_{\\Omega}\\left|\\boldsymbol{u}_k^{n+\\frac{1}{2}}\\right|(\\boldsymbol{u}_k^{n+\\frac{1}{2}}\\cdot\\varphi_{k})\\mathrm{d}\\boldsymbol{x} \\\\\n",
    "\\\\\n",
    "\\mathit{w} & = -\\int_{\\Omega}gq_k\\mathrm{d}\\boldsymbol{x} + \\int_{\\partial \\Omega}g_Nq_k \\mathrm{d}\\boldsymbol{x}\n",
    "\\end{align}\n",
    "$$"
   ]
  },
  {
   "cell_type": "markdown",
   "metadata": {},
   "source": [
    "### 2.非线性多重网格的算法"
   ]
  },
  {
   "cell_type": "markdown",
   "metadata": {},
   "source": [
    "**Full Approximation Scheme(FAS)**"
   ]
  },
  {
   "cell_type": "markdown",
   "metadata": {},
   "source": [
    "假设方程为\n",
    "\n",
    "$$\n",
    "\\boldsymbol{L}(z) = s\n",
    "$$"
   ]
  },
  {
   "cell_type": "markdown",
   "metadata": {},
   "source": [
    "定义误差 $\\boldsymbol e$ 和残差 $\\boldsymbol r$:  \n",
    "\n",
    "$$\n",
    "\\begin{aligned}\n",
    "\\boldsymbol e & = \\boldsymbol z - \\boldsymbol v, \\\\\n",
    "\\boldsymbol r & = \\boldsymbol s - \\boldsymbol L(\\boldsymbol v)\n",
    "\\end{aligned}\n",
    "$$"
   ]
  },
  {
   "cell_type": "markdown",
   "metadata": {},
   "source": [
    "首先，给一个初值 $\\boldsymbol{v}^{0}$,对它进行前磨光  \n",
    "\n",
    "1. Pre-smoothing: $1 \\le j \\le m$, 通过 $\\boldsymbol{v}^j = R_k\\boldsymbol{v}^{j-1}$对 $\\boldsymbol v^0$进行 $m$ 次磨光，现在的近似 $\\boldsymbol{v}^j = R_k\\boldsymbol{v}^{j-1}$  \n",
    "$\\quad$\n",
    "2. 现在把细网格上的残差和近似解限制到粗网格上: $\\boldsymbol{r}_{k-1} = \\boldsymbol{I}_k^{k-1}(\\boldsymbol{s}_k - \\boldsymbol{L}_k(\\boldsymbol{v}_k))$, $\\boldsymbol{v}_{k-1} = \\boldsymbol{I}_k^{k-1}\\boldsymbol{v}_k$  \n",
    "$\\quad$\n",
    "3. 在粗网格上采用直接解法求解问题: $\\boldsymbol{L}_{k-1}(\\boldsymbol{z}_{k-1}) = \\boldsymbol{L}_{k-1}(\\boldsymbol{v}_{k-1}) + \\boldsymbol{r}_k-1$  \n",
    "$\\quad$ \n",
    "4. 计算粗网格误差的近似: $\\boldsymbol{e}_{k-1} = \\boldsymbol{z}_{k-1} + \\boldsymbol{r}_{k-1}$  \n",
    "$\\quad$\n",
    "5. 把 $e_k$ 投到细网格上的，并校正细网格的值: $\\boldsymbol{v}_{m+1} = \\boldsymbol{v}_{k} + I_{k-1}^k\\boldsymbol{e}_{k-1}$   \n",
    "$\\quad$\n",
    "6. 后磨光: $m + 2 \\le j \\le 2m + 1$, 通过 $\\boldsymbol{v}^j = R_k^{\\prime}\\boldsymbol{v}^{j-1}$对 $\\boldsymbol v_{m+1}$进行 $m$ 次磨光"
   ]
  },
  {
   "cell_type": "markdown",
   "metadata": {},
   "source": [
    "#### 混合元的FAS"
   ]
  },
  {
   "cell_type": "markdown",
   "metadata": {},
   "source": [
    "##### 思路:"
   ]
  },
  {
   "cell_type": "markdown",
   "metadata": {},
   "source": [
    "I. 首先我们给它一个初始的解，记为 ($u^0,p^0$)， 并且我们给出初始的参数。"
   ]
  },
  {
   "cell_type": "markdown",
   "metadata": {},
   "source": [
    "II. 我们需要进行 $MG$ 迭代"
   ]
  },
  {
   "cell_type": "markdown",
   "metadata": {},
   "source": [
    "+ Pre-smoothing(前磨光):  \n",
    "\n",
    "  + $(u^0,p^0) \\to (u,p)$ $\\,$(P-R)迭代\n",
    "  \n",
    "  + 计算残差 $r = f - Au$"
   ]
  },
  {
   "cell_type": "markdown",
   "metadata": {},
   "source": [
    "+ Restrict to the coarse grid(把信息限制到粗网格上):\n",
    "  + 生成提升算子和限制算子 Pro_u, Res_u\n",
    "  + 计算rc = Res_u@r, uc = Res_u@u/4, pc = p[:NNc]"
   ]
  },
  {
   "cell_type": "markdown",
   "metadata": {},
   "source": [
    "+ 粗网格校正\n",
    "    + 获得粗网格上的矩阵 $\\,$(可以通过线性混合元得到)"
   ]
  },
  {
   "cell_type": "markdown",
   "metadata": {},
   "source": [
    "+ 细网格校正\n",
    "    + 把粗网格的信息提升到细网格上(这里需要之前所对应的细网格上的信息，包括矩阵和当时限制到这一层时的 $(u,p)$)"
   ]
  },
  {
   "cell_type": "markdown",
   "metadata": {},
   "source": [
    "+ Prstsmoothing(后磨光):\n",
    "    + 使用 $P-R$ 迭代求解 DarcyForchheimer 方程"
   ]
  },
  {
   "cell_type": "code",
   "execution_count": null,
   "metadata": {},
   "outputs": [],
   "source": []
  }
 ],
 "metadata": {
  "kernelspec": {
   "display_name": "Python 3",
   "language": "python",
   "name": "python3"
  },
  "language_info": {
   "codemirror_mode": {
    "name": "ipython",
    "version": 3
   },
   "file_extension": ".py",
   "mimetype": "text/x-python",
   "name": "python",
   "nbconvert_exporter": "python",
   "pygments_lexer": "ipython3",
   "version": "3.5.2"
  }
 },
 "nbformat": 4,
 "nbformat_minor": 2
}
