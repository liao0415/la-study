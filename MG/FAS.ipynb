{
 "cells": [
  {
   "cell_type": "markdown",
   "metadata": {},
   "source": [
    "## FAS "
   ]
  },
  {
   "cell_type": "markdown",
   "metadata": {},
   "source": [
    "### 1. 非线性迭代  "
   ]
  },
  {
   "cell_type": "markdown",
   "metadata": {},
   "source": [
    "我们使用 PR 迭代方法解耦非线性和限制。\n",
    "首先，我们通过解线性系统得到初值 $\\boldsymbol{u}_k^0,p_k^0$:"
   ]
  },
  {
   "cell_type": "markdown",
   "metadata": {},
   "source": [
    "$$\n",
    "\\frac{\\mu}{\\rho}\\int_{\\Omega}(\\boldsymbol{K}^{-1}\\boldsymbol{u}_k^0)\\cdot\\boldsymbol{\\varphi}_k \\mathrm{d}\\boldsymbol{x} + \\sum_{T\\in {\\mathcal{T}_k}}\\int_{T}\\nabla p_k^0\\cdot \\varphi_k \\mathrm{d}\\boldsymbol{x} = \\int_{\\Omega} \\boldsymbol{f}\\cdot \\varphi_k \\mathrm{d}\\boldsymbol{x}, \\,\\ \\forall \\varphi \\in X_k\\quad(1)\n",
    "$$"
   ]
  },
  {
   "cell_type": "markdown",
   "metadata": {},
   "source": [
    "$$\n",
    "\\sum_{T\\in {\\mathcal{T}_k}}\\int_T\\nabla q_k\\cdot \\boldsymbol{u}_k^0 \\mathrm{d}\\boldsymbol{x} = -\\int_{\\Omega}gq_k\\mathrm{d}\\boldsymbol{x} + \\int_{\\partial \\Omega}g_Nq_k \\mathrm{d}\\boldsymbol{x},\\,\\ \\forall q_k\\in M_k.\\qquad(2)\n",
    "$$"
   ]
  },
  {
   "cell_type": "markdown",
   "metadata": {},
   "source": [
    "知道了 $\\boldsymbol{u}_k^0,p_k^0$，构造一个子列 $\\boldsymbol{u}_k^{n+1},p_k^{n+1}$ $(n\\ge 0)$, $\\alpha$ 是一个增强收敛的正的参数。"
   ]
  },
  {
   "cell_type": "markdown",
   "metadata": {},
   "source": [
    "1). 没有约束的非线性迭代:求解 $\\boldsymbol{u}_k^{n+\\frac{1}{2}}$,通过"
   ]
  },
  {
   "cell_type": "markdown",
   "metadata": {},
   "source": [
    "\\begin{equation*}\n",
    " \\boldsymbol{u}_T^{n+\\frac{1}{2}} = \\frac{1}{\\gamma}\\boldsymbol{F}_T^{n+\\frac{1}{2}}\n",
    "\\end{equation*}"
   ]
  },
  {
   "cell_type": "markdown",
   "metadata": {},
   "source": [
    "其中"
   ]
  },
  {
   "cell_type": "markdown",
   "metadata": {},
   "source": [
    "$$\n",
    "\\begin{align}\n",
    " \\boldsymbol{F}_T^{n+\\frac{1}{2}} & = \\frac{1}{\\gamma}\\boldsymbol{u}_T^{n} - \\frac{\\mu}{\\rho}K_T^{-1}\\boldsymbol{u}_T^{n} - \\nabla_Tp_k^n + \\boldsymbol{f}_T\\\\\n",
    " K_T^{-1} & = \\frac{1}{\\left|T\\right|} \\int_{T}K^{-1}(\\boldsymbol x) \\mathrm{d}\\boldsymbol{x} \\\\\n",
    " \\gamma & = \\frac{1}{2\\alpha} + \\frac{1}{2}\\sqrt{\\frac{1}{\\alpha^2} + 4\\frac{\\beta}{\\rho}\\left|\\boldsymbol{F}_T^{n+\\frac{1}{2}}\\right|}\n",
    " \\end{align}\n",
    "$$"
   ]
  },
  {
   "cell_type": "markdown",
   "metadata": {},
   "source": [
    "2). 已知 $\\boldsymbol{u}_k^{n+\\frac{1}{2}}$计算 $(\\boldsymbol{u}_k^{n+1},p_k^{n+1})$:"
   ]
  },
  {
   "cell_type": "markdown",
   "metadata": {},
   "source": [
    "\\begin{equation*}\n",
    "\\begin{bmatrix}\n",
    "A_{\\alpha} & B \\\\\n",
    "B^T & 0\n",
    "\\end{bmatrix}\\begin{bmatrix}\n",
    "\\boldsymbol{u} \\\\\n",
    "p\n",
    "\\end{bmatrix}\n",
    " = \\begin{bmatrix}\n",
    "\\boldsymbol{f}_{n+\\frac{1}{2}}\\\\\n",
    "\\mathit{w}\n",
    "\\end{bmatrix}\n",
    "\\end{equation*}"
   ]
  },
  {
   "cell_type": "markdown",
   "metadata": {},
   "source": [
    "其中"
   ]
  },
  {
   "cell_type": "markdown",
   "metadata": {},
   "source": [
    "$$\n",
    "\\begin{align}\n",
    "A_{\\alpha} & = \\frac{1}{\\alpha}\\int_{\\Omega}(\\boldsymbol{u}_k^{n+1})\\cdot\\varphi_k \\mathrm{d}\\boldsymbol{x} + \\frac{\\mu}{\\rho}\\int_{\\Omega}(K^{-1}\\boldsymbol{u}_k^{n+1})\\cdot\\varphi_k \\mathrm{d}\\boldsymbol{x}\\\\\n",
    "\\\\\n",
    "B & = \\sum_{T\\in {\\mathcal{T}_k}}\\int_{T}\\nabla p_k^{n+1}\\cdot \\varphi_k \\mathrm{d}\\boldsymbol{x} \\\\\n",
    "\\\\\n",
    "\\boldsymbol{f}_{n+\\frac{1}{2}} & = \\int_{\\Omega}\\boldsymbol{f}\\cdot \\varphi_k \\mathrm{d}\\boldsymbol{x} + \\frac{1}{\\alpha} \\int_{\\Omega}\\boldsymbol{u}_k^{n+\\frac{1}{2}}\\cdot\\varphi_k \\mathrm{d}\\boldsymbol{x} - \\frac{\\beta}{\\rho}\\int_{\\Omega}\\left|\\boldsymbol{u}_k^{n+\\frac{1}{2}}\\right|(\\boldsymbol{u}_k^{n+\\frac{1}{2}}\\cdot\\varphi_{k})\\mathrm{d}\\boldsymbol{x} \\\\\n",
    "\\\\\n",
    "\\mathit{w} & = -\\int_{\\Omega}gq_k\\mathrm{d}\\boldsymbol{x} + \\int_{\\partial \\Omega}g_Nq_k \\mathrm{d}\\boldsymbol{x}\n",
    "\\end{align}\n",
    "$$"
   ]
  },
  {
   "cell_type": "markdown",
   "metadata": {},
   "source": [
    "### 2.非线性多重网格的算法"
   ]
  },
  {
   "cell_type": "markdown",
   "metadata": {},
   "source": [
    "**Full Approximation Scheme(FAS)**"
   ]
  },
  {
   "cell_type": "markdown",
   "metadata": {},
   "source": [
    "假设方程为\n",
    "\n",
    "$$\n",
    "\\boldsymbol{L}(z) = s\n",
    "$$"
   ]
  },
  {
   "cell_type": "markdown",
   "metadata": {},
   "source": [
    "首先，给一个初值 ($u^0,P^0$),对它进行前磨光  \n",
    "\n",
    "1. Pre-smoothing: $1 \\le j \\le m$, 通过 $\\boldsymbol{v}^j = R_k\\boldsymbol{v}^{j-1}$对 ($u^0,P^0$)进行 $m$ 次磨光，现在的近似 $\\boldsymbol{v}^j = R_k\\boldsymbol{v}^{j-1}$"
   ]
  },
  {
   "cell_type": "markdown",
   "metadata": {},
   "source": [
    "2. 现在把细网格上的残差和近似解限制到粗网格上: $\\boldsymbol{r}_{k-1} = \\boldsymbol{I}_k^{k-1}(\\boldsymbol{s}_k - \\boldsymbol{L}_k(\\boldsymbol{v}_k))$, $\\boldsymbol{v}_{k-1} = \\boldsymbol{I}_k^{k-1}\\boldsymbol{v}_k$"
   ]
  },
  {
   "cell_type": "markdown",
   "metadata": {},
   "source": [
    "3. 在粗网格上采用直接解法求解问题: $\\boldsymbol{L}_{k-1}(\\boldsymbol{z}_{k-1}) = \\boldsymbol{L}_{k-1}(\\boldsymbol{v}_{k-1}) + \\boldsymbol{r}_k-1$"
   ]
  },
  {
   "cell_type": "markdown",
   "metadata": {},
   "source": [
    "4. 计算粗网格误差的近似: $\\boldsymbol{e}_{k-1} = \\boldsymbol{z}_{k-1} + \\boldsymbol{r}_{k-1}$"
   ]
  },
  {
   "cell_type": "markdown",
   "metadata": {},
   "source": [
    "5. 把 $e_k$ 投到细网格上的，并校正细网格的值: "
   ]
  }
 ],
 "metadata": {
  "kernelspec": {
   "display_name": "Python 3",
   "language": "python",
   "name": "python3"
  },
  "language_info": {
   "codemirror_mode": {
    "name": "ipython",
    "version": 3
   },
   "file_extension": ".py",
   "mimetype": "text/x-python",
   "name": "python",
   "nbconvert_exporter": "python",
   "pygments_lexer": "ipython3",
   "version": "3.5.2"
  }
 },
 "nbformat": 4,
 "nbformat_minor": 2
}
