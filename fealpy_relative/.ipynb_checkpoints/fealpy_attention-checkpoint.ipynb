{
 "cells": [
  {
   "cell_type": "markdown",
   "metadata": {},
   "source": [
    "## fealpy 的一些注意事项"
   ]
  },
  {
   "cell_type": "markdown",
   "metadata": {},
   "source": [
    "### 1. 在fealpy 中不能使用绝对目录"
   ]
  },
  {
   "cell_type": "markdown",
   "metadata": {},
   "source": [
    "example: 在fealpy 的 fdm 的一个文件中调用fealpy.fem.integral_alg import IntegralAlg，我们不能直接写成上面的形式，而是应该写成  \n",
    "..fem.integral_alg import IntegralAlg"
   ]
  },
  {
   "cell_type": "markdown",
   "metadata": {},
   "source": [
    "### 2. 我们约定: 当 fealpy 中的一个文件只有一个类的话，文件名要与类的名字一致 "
   ]
  },
  {
   "cell_type": "markdown",
   "metadata": {},
   "source": [
    "example: 在fealpy 的 fdm 中有一个文件，DarcyForchheimerFDMModel.py,它的类的名字我们定义为:class DarcyForchheimerFDMModel():"
   ]
  },
  {
   "cell_type": "markdown",
   "metadata": {},
   "source": [
    "### 3. 在python中赋值的时候应该注意:"
   ]
  },
  {
   "cell_type": "markdown",
   "metadata": {},
   "source": [
    "u = m #这是把 m 的所有信息都给了u,此时 u == m"
   ]
  },
  {
   "cell_type": "markdown",
   "metadata": {},
   "source": [
    "u[:] = m # 这是把 m 中的数值赋给了 u, 其他的信息不相同，只有数值是相同的。 "
   ]
  },
  {
   "cell_type": "code",
   "execution_count": null,
   "metadata": {},
   "outputs": [],
   "source": []
  }
 ],
 "metadata": {
  "kernelspec": {
   "display_name": "Python 3",
   "language": "python",
   "name": "python3"
  },
  "language_info": {
   "codemirror_mode": {
    "name": "ipython",
    "version": 3
   },
   "file_extension": ".py",
   "mimetype": "text/x-python",
   "name": "python",
   "nbconvert_exporter": "python",
   "pygments_lexer": "ipython3",
   "version": "3.5.2"
  }
 },
 "nbformat": 4,
 "nbformat_minor": 2
}
