{
 "cells": [
  {
   "cell_type": "markdown",
   "metadata": {},
   "source": [
    "## matplotlib.pyplot.savefig"
   ]
  },
  {
   "cell_type": "markdown",
   "metadata": {},
   "source": [
    "savefig(fname,dpi=None, facecolor='w', edgecolor='w', orientation='portrait', papertype=None, format=None, transparent=False, bbox_inches=None, pad_inches=0.1, frameon=None, metadata=None )"
   ]
  },
  {
   "cell_type": "code",
   "execution_count": 1,
   "metadata": {},
   "outputs": [],
   "source": [
    "import numpy as np\n",
    "import matplotlib.pyplot as plt"
   ]
  },
  {
   "cell_type": "code",
   "execution_count": 2,
   "metadata": {},
   "outputs": [],
   "source": [
    "d = np.arange(100).reshape(10, 10)\n",
    "x, y = np.meshgrid(np.arange(11), np.arange(11))"
   ]
  },
  {
   "cell_type": "code",
   "execution_count": 3,
   "metadata": {},
   "outputs": [],
   "source": [
    "theta = 0.25*np.pi\n",
    "xx = x*np.cos(theta) - y*np.sin(theta)\n",
    "yy = x*np.sin(theta) + y*np.cos(theta)"
   ]
  },
  {
   "cell_type": "code",
   "execution_count": 4,
   "metadata": {},
   "outputs": [
    {
     "data": {
      "text/plain": [
       "<matplotlib.text.Text at 0x7f78da6c6f98>"
      ]
     },
     "execution_count": 4,
     "metadata": {},
     "output_type": "execute_result"
    }
   ],
   "source": [
    "fig, ((ax1, ax2), (ax3, ax4)) = plt.subplots(2, 2)\n",
    "ax1.set_aspect(1)\n",
    "ax1.pcolormesh(xx, yy, d)\n",
    "ax1.set_title(\"No Rasterization\")"
   ]
  },
  {
   "cell_type": "code",
   "execution_count": 5,
   "metadata": {},
   "outputs": [
    {
     "data": {
      "text/plain": [
       "<matplotlib.text.Text at 0x7f78da685a58>"
      ]
     },
     "execution_count": 5,
     "metadata": {},
     "output_type": "execute_result"
    }
   ],
   "source": [
    "ax2.set_aspect(1)\n",
    "ax2.set_title(\"Rasterization\")"
   ]
  },
  {
   "cell_type": "code",
   "execution_count": 6,
   "metadata": {},
   "outputs": [],
   "source": [
    "m = ax2.pcolormesh(xx, yy, d)\n",
    "m.set_rasterized(True)"
   ]
  },
  {
   "cell_type": "code",
   "execution_count": 7,
   "metadata": {},
   "outputs": [
    {
     "data": {
      "text/plain": [
       "<matplotlib.text.Text at 0x7f78da6447b8>"
      ]
     },
     "execution_count": 7,
     "metadata": {},
     "output_type": "execute_result"
    }
   ],
   "source": [
    "ax3.set_aspect(1)\n",
    "ax3.pcolormesh(xx, yy, d)\n",
    "ax3.text(0.5, 0.5, \"Text\", alpha=0.2,\n",
    "         va=\"center\", ha=\"center\", size=50, transform=ax3.transAxes)\n",
    "\n",
    "ax3.set_title(\"No Rasterization\")"
   ]
  },
  {
   "cell_type": "code",
   "execution_count": 8,
   "metadata": {},
   "outputs": [],
   "source": [
    "ax4.set_aspect(1)\n",
    "m = ax4.pcolormesh(xx, yy, d)\n",
    "m.set_zorder(-20)"
   ]
  },
  {
   "cell_type": "code",
   "execution_count": 9,
   "metadata": {},
   "outputs": [
    {
     "data": {
      "text/plain": [
       "<matplotlib.text.Text at 0x7f78da622f60>"
      ]
     },
     "execution_count": 9,
     "metadata": {},
     "output_type": "execute_result"
    }
   ],
   "source": [
    "ax4.text(0.5, 0.5, \"Text\", alpha=0.2,\n",
    "         zorder=-15,\n",
    "         va=\"center\", ha=\"center\", size=50, transform=ax4.transAxes)\n",
    "\n",
    "ax4.set_rasterization_zorder(-10)\n",
    "\n",
    "ax4.set_title(\"Rasterization z$<-10$\")"
   ]
  },
  {
   "cell_type": "code",
   "execution_count": 10,
   "metadata": {},
   "outputs": [],
   "source": [
    "# ax2.title.set_rasterized(True) # should display a warning\n",
    "\n",
    "plt.savefig(\"test_rasterization.pdf\", dpi=150)\n",
    "plt.savefig(\"test_rasterization.eps\", dpi=150)\n",
    "#plt.savefig(\"/home/xm/lia/test_xy.eps\",dpi=150)#改变路径\n",
    "\n",
    "if not plt.rcParams[\"text.usetex\"]:\n",
    "    plt.savefig(\"test_rasterization.svg\", dpi=150)\n",
    "    # svg backend currently ignores the dpi"
   ]
  },
  {
   "cell_type": "code",
   "execution_count": 11,
   "metadata": {},
   "outputs": [
    {
     "data": {
      "image/png": "[encoded data removed]",
      "text/plain": [
       "<matplotlib.figure.Figure at 0x7f78dc933cf8>"
      ]
     },
     "metadata": {},
     "output_type": "display_data"
    }
   ],
   "source": [
    "plt.show()"
   ]
  },
  {
   "cell_type": "code",
   "execution_count": null,
   "metadata": {},
   "outputs": [],
   "source": []
  }
 ],
 "metadata": {
  "kernelspec": {
   "display_name": "Python 3",
   "language": "python",
   "name": "python3"
  },
  "language_info": {
   "codemirror_mode": {
    "name": "ipython",
    "version": 3
   },
   "file_extension": ".py",
   "mimetype": "text/x-python",
   "name": "python",
   "nbconvert_exporter": "python",
   "pygments_lexer": "ipython3",
   "version": "3.5.2"
  }
 },
 "nbformat": 4,
 "nbformat_minor": 2
}
