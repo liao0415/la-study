{
 "cells": [
  {
   "cell_type": "markdown",
   "metadata": {},
   "source": [
    "# Ubuntu 18.08"
   ]
  },
  {
   "cell_type": "markdown",
   "metadata": {},
   "source": [
    "## 搜狗输入法安装"
   ]
  },
  {
   "cell_type": "markdown",
   "metadata": {},
   "source": [
    "1.先解压搜狗输入法"
   ]
  },
  {
   "cell_type": "markdown",
   "metadata": {},
   "source": [
    "dpkg-deb -R sogoupinyin_2.1.0.0082_amd64.deb unpack"
   ]
  },
  {
   "cell_type": "markdown",
   "metadata": {},
   "source": [
    "2.修改unpack/DEBIAN/control 中的依赖，将 fcitx-libs-qt (>= 4.2.7) 改为 libfcitx-qt0 (>= 1:4.2.9.6-1) \n",
    " 这里为了方便直接 sed 修改了"
   ]
  },
  {
   "cell_type": "markdown",
   "metadata": {},
   "source": [
    "sed -i 's/fcitx-libs-qt (>= 4.2.7)/libfcitx-qt0 (>= 1:4.2.9.6-1)/' unpack/DEBIAN/control"
   ]
  },
  {
   "cell_type": "markdown",
   "metadata": {},
   "source": [
    "3.重新打包"
   ]
  },
  {
   "cell_type": "markdown",
   "metadata": {},
   "source": [
    "dpkg-deb -b unpack/ sogoupinyin_2.2.0.0102_amd64_ubuntu18.04.deb"
   ]
  },
  {
   "cell_type": "markdown",
   "metadata": {},
   "source": [
    "4.安装，后面就和正常的 dougoupinyin 安装步骤一样了"
   ]
  },
  {
   "cell_type": "markdown",
   "metadata": {},
   "source": [
    "sudo dpkg -i sogoupinyin_2.2.0.0102_amd64_ubuntu18.04.deb"
   ]
  },
  {
   "cell_type": "markdown",
   "metadata": {},
   "source": [
    "sudo apt install -f"
   ]
  },
  {
   "cell_type": "markdown",
   "metadata": {},
   "source": [
    "5.安装后重启，搜狗就可以用了"
   ]
  },
  {
   "cell_type": "markdown",
   "metadata": {},
   "source": [
    "# teamviewer 安装"
   ]
  },
  {
   "cell_type": "markdown",
   "metadata": {},
   "source": [
    "1.在官网上下载相应的版本。"
   ]
  },
  {
   "cell_type": "markdown",
   "metadata": {},
   "source": [
    "2.输入下面的命令"
   ]
  },
  {
   "cell_type": "markdown",
   "metadata": {},
   "source": [
    "sudo dpkg -i teamviewer_13.1.3026_amd64.deb"
   ]
  },
  {
   "cell_type": "markdown",
   "metadata": {},
   "source": [
    "3.如果安装的过程中出现错误，运行sudo apt install -f 命令安装依赖项"
   ]
  },
  {
   "cell_type": "markdown",
   "metadata": {},
   "source": [
    "4.执行完之后，再运行上一条的安装命令，执行就成功了。"
   ]
  },
  {
   "cell_type": "markdown",
   "metadata": {},
   "source": [
    "# sublime text 安装"
   ]
  },
  {
   "cell_type": "markdown",
   "metadata": {},
   "source": [
    "1.在官网上下载相应的版本。"
   ]
  },
  {
   "cell_type": "markdown",
   "metadata": {},
   "source": [
    "2.Install the GPG key: "
   ]
  },
  {
   "cell_type": "markdown",
   "metadata": {},
   "source": [
    "wget -qO - https://download.sublimetext.com/sublimehq-pub.gpg | sudo apt-key add -"
   ]
  },
  {
   "cell_type": "markdown",
   "metadata": {},
   "source": [
    "3.Ensure apt is set up to work with https sources: "
   ]
  },
  {
   "cell_type": "markdown",
   "metadata": {},
   "source": [
    "sudo apt-get install apt-transport-https"
   ]
  },
  {
   "cell_type": "markdown",
   "metadata": {},
   "source": [
    "4.Stable版本"
   ]
  },
  {
   "cell_type": "markdown",
   "metadata": {},
   "source": [
    "echo \"deb https://download.sublimetext.com/ apt/stable/\" | sudo tee /etc/apt/sources.list.d/sublime-text.list"
   ]
  },
  {
   "cell_type": "markdown",
   "metadata": {},
   "source": [
    "5.如果第4步报错"
   ]
  },
  {
   "cell_type": "markdown",
   "metadata": {},
   "source": [
    "Ign:1 http://ppa.launchpad.net/aims/sagemath/ubuntu bionic InRelease           \n",
    "Get:2 http://security.ubuntu.com/ubuntu bionic-security InRelease [69.9 kB]    \n",
    "Err:3 http://ppa.launchpad.net/aims/sagemath/ubuntu bionic Release             \n",
    "  404  Not Found [IP: 91.189.xx.xx xx]\n",
    "Hit:4 http://in.archive.ubuntu.com/ubuntu bionic InRelease                     \n",
    "Hit:5 http://in.archive.ubuntu.com/ubuntu bionic-updates InRelease             \n",
    "Hit:6 http://in.archive.ubuntu.com/ubuntu bionic-backports InRelease           \n",
    "Reading package lists... Done                                  \n",
    "E: The repository 'http://ppa.launchpad.net/aims/sagemath/ubuntu bionic Release' does not have a Release file.\n",
    "N: Updating from such a repository can't be done securely, and is therefore disabled by default.\n",
    "N: See apt-secure(8) manpage for repository creation and user configuration details.\n",
    "kutubuddin@kutubuddin-h81m-s:~$ sudo apt-get update"
   ]
  },
  {
   "cell_type": "markdown",
   "metadata": {},
   "source": [
    "则You can simply remove the PPA (if added before): "
   ]
  },
  {
   "cell_type": "markdown",
   "metadata": {},
   "source": [
    "sudo apt-add-repository -r ppa:aims/sagemath"
   ]
  },
  {
   "cell_type": "markdown",
   "metadata": {},
   "source": [
    "and then install sagemath from repository:"
   ]
  },
  {
   "cell_type": "markdown",
   "metadata": {},
   "source": [
    "sudo apt-get install sagemath"
   ]
  },
  {
   "cell_type": "markdown",
   "metadata": {},
   "source": [
    "6.Update apt sources"
   ]
  },
  {
   "cell_type": "markdown",
   "metadata": {},
   "source": [
    "sudo apt-get update"
   ]
  },
  {
   "cell_type": "markdown",
   "metadata": {},
   "source": [
    "7.install Sublime Text "
   ]
  },
  {
   "cell_type": "markdown",
   "metadata": {},
   "source": [
    "sudo apt-get install sublime-text\n",
    "\n"
   ]
  },
  {
   "cell_type": "markdown",
   "metadata": {},
   "source": [
    "#### 解决输入不了中文输入法的问题"
   ]
  },
  {
   "cell_type": "markdown",
   "metadata": {},
   "source": [
    "https://www.jianshu.com/p/bf05fb3a4709"
   ]
  },
  {
   "cell_type": "markdown",
   "metadata": {},
   "source": [
    "+ Update and then upgrade your system to the newest"
   ]
  },
  {
   "cell_type": "markdown",
   "metadata": {},
   "source": [
    "sudo apt-get update && sudo apt-get upgrade"
   ]
  },
  {
   "cell_type": "markdown",
   "metadata": {},
   "source": [
    "+ Clone this repo in your local directory :"
   ]
  },
  {
   "cell_type": "markdown",
   "metadata": {},
   "source": [
    "git clone https://github.com/lyfeyaj/sublime-text-imfix.git"
   ]
  },
  {
   "cell_type": "markdown",
   "metadata": {},
   "source": [
    "+ Change your current directory to sublime-text-imfix:"
   ]
  },
  {
   "cell_type": "markdown",
   "metadata": {},
   "source": [
    "cd sublime-text-imfix"
   ]
  },
  {
   "cell_type": "markdown",
   "metadata": {},
   "source": [
    "+ Run the below script :"
   ]
  },
  {
   "cell_type": "markdown",
   "metadata": {},
   "source": [
    "./sublime-imfix"
   ]
  },
  {
   "cell_type": "markdown",
   "metadata": {},
   "source": [
    "## 安装Latex"
   ]
  },
  {
   "cell_type": "markdown",
   "metadata": {},
   "source": [
    "sudo apt-get install texlive-full(如果报错可以先执行 sudo apt-get update 进行更新)"
   ]
  },
  {
   "cell_type": "markdown",
   "metadata": {},
   "source": [
    "sudo apt-get install texmaker"
   ]
  },
  {
   "cell_type": "code",
   "execution_count": null,
   "metadata": {},
   "outputs": [],
   "source": []
  }
 ],
 "metadata": {
  "kernelspec": {
   "display_name": "Python 3",
   "language": "python",
   "name": "python3"
  },
  "language_info": {
   "codemirror_mode": {
    "name": "ipython",
    "version": 3
   },
   "file_extension": ".py",
   "mimetype": "text/x-python",
   "name": "python",
   "nbconvert_exporter": "python",
   "pygments_lexer": "ipython3",
   "version": "3.5.2"
  }
 },
 "nbformat": 4,
 "nbformat_minor": 2
}
