{
 "cells": [
  {
   "cell_type": "markdown",
   "metadata": {},
   "source": [
    "# 修改的程序代码"
   ]
  },
  {
   "cell_type": "code",
   "execution_count": null,
   "metadata": {},
   "outputs": [],
   "source": [
    "    def edge2cell(self):\n",
    "\n",
    "        nx = self.nx\n",
    "        ny = self.ny\n",
    "\n",
    "        NC = self.NC\n",
    "        NE = self.NE\n",
    "\n",
    "        edge2cell = np.zeros((NE, 4), dtype=np.int)\n",
    "\n",
    "        idx = np.arange(NC).reshape(nx, ny).T\n",
    "\n",
    "        # y direction\n",
    "        idx0 = np.arange((NE/2),dtype=np.int).reshape(nx+1, ny).T\n",
    "        #left element\n",
    "        edge2cell[idx0[:,1:], 0] = idx\n",
    "        edge2cell[idx0[:,1:], 2] = 1\n",
    "        edge2cell[idx0[:,0], 0] = idx[:,0]\n",
    "        edge2cell[idx0[:,0], 2] = 3\n",
    "        \n",
    "\n",
    "        #right element\n",
    "        edge2cell[idx0[:,:-1], 1] = idx\n",
    "        edge2cell[idx0[:,:-1], 3] = 3\n",
    "        edge2cell[idx0[:,-1], 1] = idx[:,-1]\n",
    "        edge2cell[idx0[:,-1], 3] = 1\n",
    "\n",
    "        # x direction \n",
    "        idx1 = np.arange((NE/2),dtype=np.int).reshape(nx, ny+1).T\n",
    "        NE0 = ny*(nx+1)\n",
    "        #left element\n",
    "        edge2cell[NE0+idx1[:-1], 0] = idx\n",
    "        edge2cell[NE0+idx1[:-1], 2] = 0\n",
    "        edge2cell[NE0+idx1[-1], 0] = idx[-1]\n",
    "        edge2cell[NE0+idx1[-1], 2] = 2\n",
    "\n",
    "        #right element\n",
    "        edge2cell[NE0+idx1[1:], 1] = idx\n",
    "        edge2cell[NE0+idx1[1:], 3] = 2\n",
    "        edge2cell[NE0+idx1[0],1] = idx[0]\n",
    "        edge2cell[NE0+idx1[0], 3] = 0\n",
    "\n",
    "        return edge2cell"
   ]
  },
  {
   "cell_type": "markdown",
   "metadata": {},
   "source": [
    "# 运行结果"
   ]
  },
  {
   "cell_type": "code",
   "execution_count": null,
   "metadata": {},
   "outputs": [],
   "source": [
    "Point:\n",
    " [[ 0.   0. ]\n",
    " [ 0.   0.5]\n",
    " [ 0.   1. ]\n",
    " [ 0.5  0. ]\n",
    " [ 0.5  0.5]\n",
    " [ 0.5  1. ]\n",
    " [ 1.   0. ]\n",
    " [ 1.   0.5]\n",
    " [ 1.   1. ]]\n",
    "Cell:\n",
    " [[0 3 4 1]\n",
    " [1 4 5 2]\n",
    " [3 6 7 4]\n",
    " [4 7 8 5]]\n",
    "Edge and Edge2cell:\n",
    " [[1 0 0 0 3 3]\n",
    " [2 1 1 1 3 3]\n",
    " [3 4 0 2 1 3]\n",
    " [4 5 1 3 1 3]\n",
    " [6 7 2 2 1 1]\n",
    " [7 8 3 3 1 1]\n",
    " [0 3 0 0 0 0]\n",
    " [1 4 1 0 0 2]\n",
    " [5 2 1 1 2 2]\n",
    " [3 6 2 2 0 0]\n",
    " [4 7 3 2 0 2]\n",
    " [8 5 3 3 2 2]]\n",
    "Cell2edge:\n",
    " [[ 6  2  7  0]\n",
    " [ 7  3  8  1]\n",
    " [ 9  4 10  2]\n",
    " [10  5 11  3]]\n"
   ]
  },
  {
   "cell_type": "markdown",
   "metadata": {},
   "source": []
  }
 ],
 "metadata": {
  "kernelspec": {
   "display_name": "Python 3",
   "language": "python",
   "name": "python3"
  },
  "language_info": {
   "codemirror_mode": {
    "name": "ipython",
    "version": 3
   },
   "file_extension": ".py",
   "mimetype": "text/x-python",
   "name": "python",
   "nbconvert_exporter": "python",
   "pygments_lexer": "ipython3",
   "version": "3.5.2"
  }
 },
 "nbformat": 4,
 "nbformat_minor": 2
}
