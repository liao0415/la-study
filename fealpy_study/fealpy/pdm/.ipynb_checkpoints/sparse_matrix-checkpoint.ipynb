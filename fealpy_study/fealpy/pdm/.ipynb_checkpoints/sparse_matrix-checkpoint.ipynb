{
 "cells": [
  {
   "cell_type": "markdown",
   "metadata": {},
   "source": [
    "# 一个差分方法的例子（块状中心差分）darcy equation"
   ]
  },
  {
   "cell_type": "markdown",
   "metadata": {},
   "source": [
    "稀疏矩阵常用函数"
   ]
  },
  {
   "cell_type": "markdown",
   "metadata": {},
   "source": [
    "|函数|解释|\n",
    "|:----|:----|\n",
    "|tocsc()|Return a cope of this matrix in Compressed Sparse Column format|\n",
    "|tocsr()|Return a cope of this matrix in Compresseed Sparse Row format|\n",
    "|todense([order,out])|Return a dense matrix representation of this matrix|"
   ]
  },
  {
   "cell_type": "code",
   "execution_count": 2,
   "metadata": {},
   "outputs": [],
   "source": [
    "import numpy as np\n",
    "from scipy.sparse import csr_matrix,hstack,vstack"
   ]
  },
  {
   "cell_type": "code",
   "execution_count": 3,
   "metadata": {},
   "outputs": [],
   "source": [
    "NC = 16\n",
    "NE = 40\n",
    "nx = 4\n",
    "ny = 4"
   ]
  },
  {
   "cell_type": "code",
   "execution_count": 5,
   "metadata": {},
   "outputs": [
    {
     "data": {
      "text/plain": [
       "[0,\n",
       " 0,\n",
       " 1,\n",
       " 1,\n",
       " 2,\n",
       " 2,\n",
       " 3,\n",
       " 3,\n",
       " 4,\n",
       " 4,\n",
       " 5,\n",
       " 5,\n",
       " 6,\n",
       " 6,\n",
       " 7,\n",
       " 7,\n",
       " 8,\n",
       " 8,\n",
       " 9,\n",
       " 9,\n",
       " 10,\n",
       " 10,\n",
       " 11,\n",
       " 11,\n",
       " 12,\n",
       " 12,\n",
       " 13,\n",
       " 13,\n",
       " 14,\n",
       " 14,\n",
       " 15,\n",
       " 15]"
      ]
     },
     "execution_count": 5,
     "metadata": {},
     "output_type": "execute_result"
    }
   ],
   "source": [
    "row1 = [val for val in np.arange(NC) for i in range(2)] #array中的元素重复两遍\n",
    "row1 "
   ]
  },
  {
   "cell_type": "code",
   "execution_count": 8,
   "metadata": {},
   "outputs": [
    {
     "data": {
      "text/plain": [
       "[0.0,\n",
       " 4.0,\n",
       " 1.0,\n",
       " 5.0,\n",
       " 2.0,\n",
       " 6.0,\n",
       " 3.0,\n",
       " 7.0,\n",
       " 4.0,\n",
       " 8.0,\n",
       " 5.0,\n",
       " 9.0,\n",
       " 6.0,\n",
       " 10.0,\n",
       " 7.0,\n",
       " 11.0,\n",
       " 8.0,\n",
       " 12.0,\n",
       " 9.0,\n",
       " 13.0,\n",
       " 10.0,\n",
       " 14.0,\n",
       " 11.0,\n",
       " 15.0,\n",
       " 12.0,\n",
       " 16.0,\n",
       " 13.0,\n",
       " 17.0,\n",
       " 14.0,\n",
       " 18.0,\n",
       " 15.0,\n",
       " 19.0]"
      ]
     },
     "execution_count": 8,
     "metadata": {},
     "output_type": "execute_result"
    }
   ],
   "source": [
    "N1 = np.arange(NE/2-ny)\n",
    "N2 = np.arange(ny,NE/2)\n",
    "col1 = [rv for r in zip(N1,N2) for rv in r] #两个array交叉排列.如果列表很大，可以把zip换成itertools.izip\n",
    "col1"
   ]
  },
  {
   "cell_type": "markdown",
   "metadata": {},
   "source": [
    "## 附：两个列表的相互交错"
   ]
  },
  {
   "cell_type": "code",
   "execution_count": 21,
   "metadata": {},
   "outputs": [],
   "source": [
    "from itertools import chain\n",
    "a = [1, 2, 3]\n",
    "b = [4, 5, 6]"
   ]
  },
  {
   "cell_type": "code",
   "execution_count": 22,
   "metadata": {},
   "outputs": [
    {
     "data": {
      "text/plain": [
       "[1, 4, 2, 5, 3, 6]"
      ]
     },
     "execution_count": 22,
     "metadata": {},
     "output_type": "execute_result"
    }
   ],
   "source": [
    "list(chain.from_iterable(zip(a, b)))# 方法1"
   ]
  },
  {
   "cell_type": "code",
   "execution_count": 23,
   "metadata": {},
   "outputs": [
    {
     "data": {
      "text/plain": [
       "[1, 4, 2, 5, 3, 6]"
      ]
     },
     "execution_count": 23,
     "metadata": {},
     "output_type": "execute_result"
    }
   ],
   "source": [
    "list(chain(*zip(a, b))) #方法二"
   ]
  },
  {
   "cell_type": "code",
   "execution_count": 29,
   "metadata": {},
   "outputs": [
    {
     "data": {
      "text/plain": [
       "[1, 4, 2, 5, 3, 6, 7, 8, 9]"
      ]
     },
     "execution_count": 29,
     "metadata": {},
     "output_type": "execute_result"
    }
   ],
   "source": [
    "def xmerge(a, c):\n",
    "    alen, clen = len(a), len(c)\n",
    "    mlen = min(alen, clen)\n",
    "    for i in range(mlen):\n",
    "        yield a[i]\n",
    "        yield c[i]\n",
    "\n",
    "    if alen > clen:\n",
    "        for i in range(mlen, alen):\n",
    "            yield a[i]\n",
    "    else:\n",
    "        for i in range(mlen, clen):\n",
    "            yield c[i]\n",
    "c = [4, 5, 6, 7, 8, 9]\n",
    "d = [i for i in xmerge(a, c)]\n",
    "e = [i for i in xmerge(c, a)]\n",
    "d"
   ]
  },
  {
   "cell_type": "code",
   "execution_count": 30,
   "metadata": {},
   "outputs": [
    {
     "data": {
      "text/plain": [
       "[4, 1, 5, 2, 6, 3, 7, 8, 9]"
      ]
     },
     "execution_count": 30,
     "metadata": {},
     "output_type": "execute_result"
    }
   ],
   "source": [
    "e"
   ]
  },
  {
   "cell_type": "code",
   "execution_count": 32,
   "metadata": {},
   "outputs": [
    {
     "data": {
      "text/plain": [
       "[1, 4, 2, 5, 3, 6]"
      ]
     },
     "execution_count": 32,
     "metadata": {},
     "output_type": "execute_result"
    }
   ],
   "source": [
    "from matplotlib.cbook import flatten\n",
    "a = [1, 2, 3]\n",
    "b = [4, 5, 6]\n",
    "list(flatten(zip(a,b)))"
   ]
  },
  {
   "cell_type": "markdown",
   "metadata": {},
   "source": [
    "**end**"
   ]
  },
  {
   "cell_type": "code",
   "execution_count": 9,
   "metadata": {},
   "outputs": [],
   "source": [
    "data1 = np.array([-1,1 ]*NC) #[-1, 1] 重复NC遍"
   ]
  },
  {
   "cell_type": "code",
   "execution_count": 34,
   "metadata": {},
   "outputs": [],
   "source": [
    "A11 = csr_matrix((data1, (row1, col1)),shape = (NC, NE/2)) #生成稀疏矩阵"
   ]
  },
  {
   "cell_type": "markdown",
   "metadata": {},
   "source": [
    "data1对应矩阵中的非零元，row1代表的是对应的第几行，例如row1 = [0,0,1,2]代表第一行有两个非零元，第一行1个，第二行1个。col1代表与行相对应的列。"
   ]
  },
  {
   "cell_type": "code",
   "execution_count": 11,
   "metadata": {},
   "outputs": [
    {
     "data": {
      "text/plain": [
       "array([ 0,  1,  2,  3,  5,  6,  7,  8, 10, 11, 12, 13, 15, 16, 17, 18])"
      ]
     },
     "execution_count": 11,
     "metadata": {},
     "output_type": "execute_result"
    }
   ],
   "source": [
    "N3 = np.arange((NE/2),dtype = np.int).reshape(4,5)[:,:-1].flatten()# 生成有规律断层的数组\n",
    "N3"
   ]
  },
  {
   "cell_type": "code",
   "execution_count": 12,
   "metadata": {},
   "outputs": [
    {
     "data": {
      "text/plain": [
       "array([ 1,  2,  3,  4,  6,  7,  8,  9, 11, 12, 13, 14, 16, 17, 18, 19])"
      ]
     },
     "execution_count": 12,
     "metadata": {},
     "output_type": "execute_result"
    }
   ],
   "source": [
    "N4 = np.arange((NE/2+1),dtype = np.int)[1:].reshape(4,5)[:,:-1].flatten()\n",
    "N4"
   ]
  },
  {
   "cell_type": "code",
   "execution_count": 13,
   "metadata": {},
   "outputs": [
    {
     "data": {
      "text/plain": [
       "[0,\n",
       " 1,\n",
       " 1,\n",
       " 2,\n",
       " 2,\n",
       " 3,\n",
       " 3,\n",
       " 4,\n",
       " 5,\n",
       " 6,\n",
       " 6,\n",
       " 7,\n",
       " 7,\n",
       " 8,\n",
       " 8,\n",
       " 9,\n",
       " 10,\n",
       " 11,\n",
       " 11,\n",
       " 12,\n",
       " 12,\n",
       " 13,\n",
       " 13,\n",
       " 14,\n",
       " 15,\n",
       " 16,\n",
       " 16,\n",
       " 17,\n",
       " 17,\n",
       " 18,\n",
       " 18,\n",
       " 19]"
      ]
     },
     "execution_count": 13,
     "metadata": {},
     "output_type": "execute_result"
    }
   ],
   "source": [
    "col2 = [rv for r in zip(N3,N4) for rv in r]\n",
    "col2"
   ]
  },
  {
   "cell_type": "code",
   "execution_count": 35,
   "metadata": {},
   "outputs": [],
   "source": [
    "A12 = csr_matrix((data1, (row1, col2)),shape = (NC, NE/2))\n",
    "A13 = csr_matrix((NC, NC),dtype = np.int)"
   ]
  },
  {
   "cell_type": "code",
   "execution_count": 37,
   "metadata": {},
   "outputs": [],
   "source": [
    "A1 = hstack((A11, A12, A13)) #横向合并"
   ]
  },
  {
   "cell_type": "code",
   "execution_count": 42,
   "metadata": {},
   "outputs": [],
   "source": [
    "mu = 1\n",
    "k = 1\n",
    "rho = 1\n"
   ]
  },
  {
   "cell_type": "code",
   "execution_count": 47,
   "metadata": {},
   "outputs": [],
   "source": [
    "#def get_left_matrix(self,nx,ny,NC,NE):\n",
    "row1 = [val for val in np.arange(NC) for i in range(2)]\n",
    "N1 = np.arange(NE/2-ny)\n",
    "N2 = np.arange(ny,NE/2)\n",
    "col1 = [rv for r in zip(N1,N2) for rv in r]\n",
    "data1 = np.array([-1,1 ]*NC)\n",
    "A11 = csr_matrix((data1, (row1, col1)),shape = (NC, NE/2))\n",
    "N3 = np.arange((NE/2),dtype = np.int).reshape(4,5)[:,:-1].flatten()\n",
    "N4 = np.arange((NE/2+1),dtype = np.int)[1:].reshape(4,5)[:,:-1].flatten()\n",
    "col2 = [rv for r in zip(N3,N4) for rv in r]\n",
    "A12 = csr_matrix((data1, (row1, col2)),shape = (NC, NE/2))\n",
    "A13 = csr_matrix((NC, NC),dtype = np.int)\n",
    "A1 = hstack((A11, A12, A13))\n",
    "\n",
    "row2 = np.arange(4,NE/2)\n",
    "data2 = mu*nx/k*np.array([1]*(int(NE/2-ny)))\n",
    "A21 = csr_matrix((data2,(row2,row2)),shape = (NE/2, NE/2))\n",
    "A22 = csr_matrix((NE/2, NE/2),dtype = np.int)\n",
    "row3 = [val for val in np.arange(ny,NE/2-ny) for i in range(2)]\n",
    "N5 = np.arange(NE/2-2*ny)\n",
    "N6 = np.arange(ny,NE/2-ny)\n",
    "col3 = [rv for r in zip(N5,N6) for rv in r]\n",
    "data3 = np.array([-1,1 ]*(int(NE/2-2*ny)))\n",
    "A23 = csr_matrix((data3,(row3,col3)),shape = (NE/2, NC))\n",
    "A2 = hstack((A21, A22, A23))\n",
    "\n",
    "A31 = csr_matrix((NE/2, NE/2),dtype = np.int)\n",
    "row4 = np.arange((NE/2),dtype = np.int).reshape(4,5)[:,1:].flatten()\n",
    "A32 = csr_matrix((data2,(row4,row4)),shape = (NE/2, NE/2))\n",
    "N7 = np.arange((NE/2),dtype = np.int).reshape(4,5)[:,1:-1].flatten()\n",
    "row5 = [val for val in N7 for i in range(2)]\n",
    "N8 = np.arange((NC),dtype = np.int).reshape(4,4)[:,:-1].flatten()\n",
    "N9 = np.arange((NC+1),dtype = np.int)[1:].reshape(4,4)[:,:-1].flatten()\n",
    "col4 = [rv for r in zip(N8,N9) for rv in r]\n",
    "data4 = np.array([-1,1 ]*int(NC-nx))\n",
    "A33 = csr_matrix((data4,(row5,col4)),shape = (NE/2, NC))\n",
    "A3 = hstack((A31, A32, A33))\n",
    "A = vstack((A1,A2,A3)).toarray()\n",
    "\n",
    "   # return A"
   ]
  },
  {
   "cell_type": "code",
   "execution_count": null,
   "metadata": {},
   "outputs": [],
   "source": []
  }
 ],
 "metadata": {
  "kernelspec": {
   "display_name": "Python 3",
   "language": "python",
   "name": "python3"
  },
  "language_info": {
   "codemirror_mode": {
    "name": "ipython",
    "version": 3
   },
   "file_extension": ".py",
   "mimetype": "text/x-python",
   "name": "python",
   "nbconvert_exporter": "python",
   "pygments_lexer": "ipython3",
   "version": "3.5.2"
  }
 },
 "nbformat": 4,
 "nbformat_minor": 2
}
