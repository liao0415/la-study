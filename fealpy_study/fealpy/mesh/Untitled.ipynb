{
 "cells": [
  {
   "cell_type": "code",
   "execution_count": null,
   "metadata": {},
   "outputs": [],
   "source": [
    "import numpy as np\n",
    "\n",
    "from scipy.sparse import coo_matrix, csr_matrix\n",
    "from scipy.sparse import triu, tril\n",
    "\n",
    "from matplotlib.collections import LineCollection\n",
    "\n",
    "from .Mesh2d import Mesh2d"
   ]
  },
  {
   "cell_type": "code",
   "execution_count": null,
   "metadata": {},
   "outputs": [],
   "source": [
    "class StructureQuadMesh(Mesh2d):#定义一个类"
   ]
  },
  {
   "cell_type": "code",
   "execution_count": null,
   "metadata": {},
   "outputs": [],
   "source": [
    "    #初始化数据\n",
    "    def __init__(self, box, nx, ny):\n",
    "        self.box = box #给定一个区域\n",
    "        self.ds = StructureQuadMeshDataStructure(nx, ny)\n",
    "        self.meshtype=\"quad\" #网格类型\n",
    "        self.dx = (box[1] - box[0])/nx #x方向的步长\n",
    "        self.dy = (box[3] - box[2])/ny #y方向的步长\n",
    "        self.data = {}"
   ]
  },
  {
   "cell_type": "code",
   "execution_count": null,
   "metadata": {},
   "outputs": [],
   "source": [
    "    @property \n",
    "    def node(self):\n",
    "        NN = self.ds.NN\n",
    "        nx = self.ds.nx\n",
    "        ny = self.ds.ny\n",
    "        box = self.box\n",
    "\n",
    "        X, Y = np.mgrid[\n",
    "                box[0]:box[1]:complex(0, nx+1), \n",
    "                box[2]:box[3]:complex(0, ny+1)] #x方向node的值和y方向node的值\n",
    "        node = np.zeros((NN, 2), dtype=np.float)\n",
    "        node[:, 0] = X.flat\n",
    "        node[:, 1] = Y.flat\n",
    "        return node"
   ]
  }
 ],
 "metadata": {
  "kernelspec": {
   "display_name": "Python 3",
   "language": "python",
   "name": "python3"
  },
  "language_info": {
   "codemirror_mode": {
    "name": "ipython",
    "version": 3
   },
   "file_extension": ".py",
   "mimetype": "text/x-python",
   "name": "python",
   "nbconvert_exporter": "python",
   "pygments_lexer": "ipython3",
   "version": "3.5.2"
  }
 },
 "nbformat": 4,
 "nbformat_minor": 2
}
