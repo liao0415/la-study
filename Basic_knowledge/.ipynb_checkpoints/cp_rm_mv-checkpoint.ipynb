{
 "cells": [
  {
   "cell_type": "markdown",
   "metadata": {},
   "source": [
    "转自：http://www.cnblogs.com/benio/archive/2010/07/27/1785929.html"
   ]
  },
  {
   "cell_type": "markdown",
   "metadata": {},
   "source": [
    "复制文件，请使用cp（copy）命令。不过，cp命令的用途很多。除了单纯的复制之外，还可以建立连接文件（就是快捷方式），比较两个文件的新旧而予以更新，以及复制整个目录等等。至于移动目录与文件，则使用mv（move），这个命令也可以直接用来重命名（rename）。删除使用rm（remove）命令。下面我们就来看一看。"
   ]
  },
  {
   "cell_type": "markdown",
   "metadata": {},
   "source": [
    "cp（复制文件或目录）"
   ]
  },
  {
   "cell_type": "markdown",
   "metadata": {},
   "source": [
    "[root@linux ~]# cp [-adfilprsu] 来源文件(source) 目标文件(destination)  \n",
    "\n",
    "[root@linux ~]# cp [options] source1 source2 source3 .... directory  \n",
    "\n",
    "参数：  \n",
    "\n",
    "-a : 相当于 -pdr 的意思。  \n",
    "\n",
    "-d : 若来源文件为连接文件的属性（link file），则复制连接文件属性而非文件本身。  \n",
    "\n",
    "-f : 强制（force）的意思，若有重复或其他疑问时，不会询问用户，而强制复制。  \n",
    "\n",
    "-i : 若目标文件（destination）已经存在，在覆盖时会先询问是否真的操作。  \n",
    "\n",
    "-l : 建立硬连接（hard link）的连接文件，而非复制文件本身。  \n",
    "\n",
    "-p : 连同文件的属性一起复制，而非使用默认属性。  \n",
    "\n",
    "-r : 递归持续复制，用于目录的复制行为。  \n",
    "\n",
    "-s : 复制成为符号连接文件（symbolic link），即“快捷方式”文件。  \n",
    "\n",
    "-u : 若目标文件比来源文件旧，才更新目标文件。  \n",
    "\n",
    "最后，需要注意，如果来源文件有两个以上，则最后一个目的文件一定是“目录”。  \n",
    "\n",
    "范例：  \n",
    "\n",
    "范例一：将家目录下的 .bashrc复制到 /tmp下，并重命名为bashrc。  \n",
    "\n",
    "[root@linux ~]# cd /tmp  \n",
    "\n",
    "[root@linux tmp]# cp ~/.bashrc bashrc  \n",
    "\n",
    "[root@linux tmp]# cp -i ~/.bashrc bashrc  \n",
    "\n",
    "cp: overwrite `basrhc'? n  \n",
    "\n",
    "#### 重复做两次动作，由于 /tmp下面已经存在bashrc了，加上 -i参数，\n",
    "#### 在覆盖前会让用户确认。可以按下n或者y。\n",
    "#### 但是，反过来说，如果不想询问，则加上 -f参数来强制直接覆盖。\n",
    "\n",
    "范例二：将 /var/log/wtmp复制到 /tmp下。  \n",
    "\n",
    "[root@linux tmp]# cp /var/log/wtmp . <==想要复制到当前目录，最后的 . 不要忘 \n",
    "\n",
    "\n",
    "[root@linux tmp]# ls -l /var/log/wtmp wtmp  \n",
    "\n",
    "-rw-rw-r--  1 root utmp 71808 Jul 18 12:46 /var/log/wtmp  \n",
    "\n",
    "-rw-r--r--  1 root root 71808 Jul 18 21:58 wtmp  \n",
    "\n",
    "#### 注意到了吗？在不加任何参数的情况下，文件的拥有者会改变，连权限也跟着改变了。\n",
    "#### 这是个很重要的特性。要注意。还有，文件建立时间也不一样了。\n",
    "#### 如果想要将文件的所有属性都一起复制，可以加上 -a。\n",
    "[root@linux tmp]# cp -a /var/log/wtmp wtmp_2  \n",
    "\n",
    "[root@linux tmp]# ls -l /var/log/wtmp wtmp_2  \n",
    "\n",
    "-rw-rw-r--  1 root utmp 71808 Jul 18 12:46 /var/log/wtmp  \n",
    "\n",
    "-rw-rw-r--  1 root utmp 71808 Jul 18 12:46 wtmp_2  \n",
    "\n",
    "#### 整个属性完全一模一样。这就是 -a的作用。\n",
    "\n",
    "范例三：将 /etc/ 目录下的所有内容复制到 /tmp。  \n",
    "\n",
    "[root@linux tmp]# cp /etc/ /tmp  \n",
    "\n",
    "cp: omitting directory `/etc'   <== 如果是目录，不能直接复制，要加上 -r参数  \n",
    "\n",
    "[root@linux tmp]# cp -r /etc/ /tmp  \n",
    "\n",
    "#### 再次强调。-r可以复制目录，但是，文件与目录的权限会被改变。\n",
    "#### 所以，也可以利用cp -a /etc /tmp来执行命令。\n",
    "\n",
    "范例四：将范例一复制的bashrc建立一个符号连接文件（symbolic link）  \n",
    "\n",
    "[root@linux tmp]# ls -l bashrc  \n",
    "\n",
    "-rw-r--r--  1 root root 395 Jul 18 22:08 bashrc  \n",
    "\n",
    "[root@linux tmp]# cp -s bashrc bashrc_slink  \n",
    "\n",
    "[root@linux tmp]# cp -l bashrc bashrc_hlink  \n",
    "\n",
    "[root@linux tmp]# ls -l bashrc*  \n",
    "\n",
    "-rw-r--r--  2 root root 395 Jul 18 22:08 bashrc  \n",
    "\n",
    "-rw-r--r--  2 root root 395 Jul 18 22:08 bashrc_hlink  \n",
    "\n",
    "lrwxrwxrwx  1 root root   6 Jul 18 22:31 bashrc_slink -> bashrc  \n",
    "\n",
    "#### bashrc_slink是由 -s的参数造成的，建立的是一个“快捷方式”，\n",
    "#### 所以会看到在文件的最右边，会显示这个文件是“连接”到哪里的。\n",
    "#### 至于bashrc_hlink。建立了这个文件之后，bashrc与bashrc_hlink\n",
    "#### 所有的参数都一样，只是，第二列的link数改变成为2了。而不是原本的1。\n",
    "#### 这两种连接方式的异同，我们会在下一章介绍。\n",
    "\n",
    "范例五：若 ~/.bashrc比 /tmp/bashrc新，则复制。  \n",
    "\n",
    "[root@linux tmp]# cp -u ~/.bashrc /tmp/bashrc  \n",
    "\n",
    "#### -u的作用是，在目标文件与来源文件有差异时，才会复制。\n",
    "#### 所以，比较常用于“备份”。\n",
    "\n",
    "范例6：将范例四生成的bashrc_slink复制成为bashrc_slink_2。  \n",
    "\n",
    "[root@linux tmp]# cp bashrc_slink bashrc_slink_2  \n",
    "\n",
    "[root@linux tmp]# ls -l bashrc_slink*  \n",
    "\n",
    "lrwxrwxrwx  1 root root   6 Jul 18 22:31 bashrc_slink -> bashrc  \n",
    "\n",
    "-rw-r--r--  1 root root 395 Jul 18 22:48 bashrc_slink_2  \n",
    "\n",
    "#### 这个例子也很有趣。原本复制的是连接文件，却将连接文件的实际文件复制过来了。\n",
    "#### 也就是说，如果没有加上任何参数，复制的是来源文件，而非连接文件的属性。\n",
    "#### 若要复制连接文件的属性，就要使用 -d或者 -a参数。\n",
    "\n",
    "范例7：将家目录的 .bashrc及 .bash_history复制到 /tmp下面。  \n",
    "\n",
    "[root@linux tmp]# cp ~/.bashrc ~/.bash_history /tmp  \n",
    "\n",
    "#### 将多个数据一次复制到同一个目录。 "
   ]
  },
  {
   "cell_type": "markdown",
   "metadata": {},
   "source": [
    "cp的功能很多，由于我们常常进行一些数据的复制，所以也会常常用到这个命令。一般来说，如果去复制别人的数据（当然，该文件必须要有read的权限），总是希望复制到的数据最后是我们自己的，所以，在默认条件中，cp的来源文件与目标文件的权限是不同的，目标文件的拥有者通常会是命令操作者本身。举例来说，范例二中，由于我是root身份，因此复制过来的文件拥有者与用户组就改变成为root所有了。"
   ]
  },
  {
   "cell_type": "markdown",
   "metadata": {},
   "source": [
    "由于具有这个特性，在进行备份的时候，某些需要特别注意的特殊权限文件，例如密码文件（/etc/shadow）以及一些设置文件，就不能直接以cp来复制，而必须要加上 -a或者是 -p，这些可以完整复制文件权限的参数。另外，如果想要复制文件给其他用户，也必须要注意文件的权限（包含读、写、执行以及文件拥有者），否则，其他人还是无法对你给的文件进行修改。特别要注意。"
   ]
  },
  {
   "cell_type": "markdown",
   "metadata": {},
   "source": [
    "上面的第4个范例最有趣，使用 -l及 -s都会建立所谓的连接文件（link file），但是这两种连接文件有不一样的显示。这是怎么一回事？ -l就是所谓的硬连接（hard link）， -s则是符号连接（symbolic link）"
   ]
  },
  {
   "cell_type": "markdown",
   "metadata": {},
   "source": [
    "由于cp有种种文件属性与权限，所以，在复制时，必须要清楚地了解到：  \n",
    "\n",
    "• 是否需要完整地保留来源文件的信息？  \n",
    "\n",
    "• 来源文件是否为符号连接文件（symbolic link file）？  \n",
    "\n",
    "• 来源文件是否为特殊的文件，例如FIFO、套接字等？  \n",
    "\n",
    "• 来源文件是否为目录？"
   ]
  },
  {
   "cell_type": "markdown",
   "metadata": {},
   "source": [
    "### rm（删除文件或目录）\n",
    "\n"
   ]
  },
  {
   "cell_type": "markdown",
   "metadata": {},
   "source": [
    "[root@linux ~]# rm [-fir] 文件或目录  \n",
    "\n",
    "参数：  \n",
    "\n",
    "-f ：就是 force 的意思，强制删除。  \n",
    "\n",
    "-i ：交互模式，在删除前会询问用户是否动作  \n",
    "\n",
    "-r ：递归删除。常用在目录的删除  \n",
    "\n",
    "范例：  \n",
    "\n",
    "范例一：建立一个文件后予以删除  \n",
    "\n",
    "[root@linux ~]# cd /tmp  \n",
    "\n",
    "[root@linux tmp]# cp ~/.bashrc bashrc  \n",
    "\n",
    "[root@linux tmp]# rm -i bashrc  \n",
    "\n",
    "rm: remove regular file `bashrc'? y  \n",
    "\n",
    "#### 如果加上 -i参数就会主动询问。如果不需要询问就加 -f参数。\n",
    "\n",
    "范例二：删除一个不为空的目录。  \n",
    "\n",
    "[root@linux tmp]# mkdir test  \n",
    "\n",
    "[root@linux tmp]# cp ~/.bashrc test/ <== 将文件复制到此目录去，就不是空的目录了  \n",
    "\n",
    "[root@linux tmp]# rmdir test  \n",
    "\n",
    "rmdir: `test': Directory not empty <== 删不掉。因为这不是空的目录。  \n",
    "\n",
    "[root@linux tmp]# rm -rf test"
   ]
  },
  {
   "cell_type": "markdown",
   "metadata": {},
   "source": [
    "删除命令（remove）相当于DOS下的del命令。这里要注意的是，通常，在Linux系统中，为了怕文件被误删，很多版本默认有 -i参数，-i指每个文件被删除之前都会让用户确认一次，以防误删文件。如果要连目录下的内容都一起删除，例如子目录里面还有子目录，就要使用 -rf参数。不过，使用“rm -rf”命令之前，请千万注意，因为该目录或文件“肯定”会被root删除。因为系统不会再次询问是否要删除。所以这是非常重要的命令，需要特别注意。不过，如果确定该目录不要了，使用rm -rf来循环删除是不错的方式。"
   ]
  },
  {
   "cell_type": "markdown",
   "metadata": {},
   "source": [
    "### mv（移动文件与目录，或重命名）"
   ]
  },
  {
   "cell_type": "markdown",
   "metadata": {},
   "source": [
    "[root@linux ~]# mv [-fiv] source destination  \n",
    "\n",
    "[root@linux ~]# mv [options] source1 source2 source3 .... directory  \n",
    "\n",
    "参数：  \n",
    "\n",
    "-f ：force，强制的意思，强制直接移动而不询问。  \n",
    "\n",
    "-i ：若目标文件（destination）已经存在，就会询问是否覆盖。  \n",
    "\n",
    "-u ：若目标文件已经存在，且来源文件比较新，才会更新（update）  \n",
    "\n",
    "范例：  \n",
    "\n",
    "范例一：复制一个文件，建立一个目录，将文件移动到目录中。  \n",
    "\n",
    "[root@linux ~]# cd /tmp  \n",
    "\n",
    "[root@linux tmp]# cp ~/.bashrc bashrc  \n",
    "\n",
    "[root@linux tmp]# mkdir mvtest  \n",
    "\n",
    "[root@linux tmp]# mv bashrc mvtest  \n",
    "\n",
    "#### 将某个文件移动到某个目录去，就是这样做。  \n",
    "\n",
    "范例二：将刚刚的目录名重命名为 mvtest2。  \n",
    "\n",
    "[root@linux tmp]# mv mvtest mvtest2 <== 这样就重命名了。  \n",
    "\n",
    "#### 其实，在Linux下还有个有趣的命令，名为rename，  \n",
    "\n",
    "#### 该命令专门进行文件的重命名。用途不少。可以参阅man rename。  \n",
    "\n",
    "范例三：再建立两个文件，再全部移动到 /tmp/mvtest2中。  \n",
    "\n",
    "[root@linux tmp]# cp ~/.bashrc bashrc1  \n",
    "\n",
    "[root@linux tmp]# cp ~/.bashrc bashrc2  \n",
    "\n",
    "[root@linux tmp]# mv bashrc1 bashrc2 mvtest2  \n",
    "\n",
    "#### 注意，如果有多个来源文件或目录，则最后一个目标文件一定是“目录”。 \n",
    "\n",
    "#### 意思是，将所有数据移动到该目录。"
   ]
  },
  {
   "cell_type": "markdown",
   "metadata": {},
   "source": [
    "这是移动（move）的意思。要移动文件或目录，这个命令就很重要。同样，也可以使用 -u（update）来测试新旧文件，看看是否需要移动。另外一个用途就是“更改文件名”。我们可以很轻松地使用mv来更改文件名。不过，Linux的rename命令，可以用来更改大量文件的文件名，你可以利用man rename查看一下。"
   ]
  },
  {
   "cell_type": "markdown",
   "metadata": {},
   "source": [
    "作者：李海波\n",
    "出处：http://www.cnblogs.com/horizonli/\n",
    "本文版权归作者和博客园共有，欢迎转载，但未经作者同意必须保留此段声明，且在文章页面明显位置给出原文连接，否则保留追究法律责任的权利。"
   ]
  },
  {
   "cell_type": "code",
   "execution_count": null,
   "metadata": {},
   "outputs": [],
   "source": []
  }
 ],
 "metadata": {
  "kernelspec": {
   "display_name": "Python 3",
   "language": "python",
   "name": "python3"
  },
  "language_info": {
   "codemirror_mode": {
    "name": "ipython",
    "version": 3
   },
   "file_extension": ".py",
   "mimetype": "text/x-python",
   "name": "python",
   "nbconvert_exporter": "python",
   "pygments_lexer": "ipython3",
   "version": "3.5.2"
  }
 },
 "nbformat": 4,
 "nbformat_minor": 2
}
