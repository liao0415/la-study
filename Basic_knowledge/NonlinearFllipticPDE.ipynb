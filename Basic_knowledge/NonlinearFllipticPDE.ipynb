{
 "cells": [
  {
   "cell_type": "markdown",
   "metadata": {},
   "source": [
    "#### Fixed point/Picard's iteration(皮卡尔迭代)"
   ]
  },
  {
   "cell_type": "markdown",
   "metadata": {},
   "source": [
    "We choose $B = A^{-1}$.solving  \n",
    "\n",
    "$$\n",
    "Au_{k+1} = f(u_k)\n",
    "$$\n",
    "\n",
    "From  \n",
    "\n",
    "$$\n",
    "||u - u_{k+1}||_1 = ||f(u) - f(u_k)||_{-1}\\le L||u - u_k||_{-1} \\le L||u-u_k||_1\n",
    "$$\n",
    "the fixed point iteration converges if L < 1."
   ]
  },
  {
   "cell_type": "markdown",
   "metadata": {},
   "source": [
    "+ Runge-Kutta methods"
   ]
  },
  {
   "cell_type": "code",
   "execution_count": null,
   "metadata": {},
   "outputs": [],
   "source": []
  }
 ],
 "metadata": {
  "kernelspec": {
   "display_name": "Python 3",
   "language": "python",
   "name": "python3"
  },
  "language_info": {
   "codemirror_mode": {
    "name": "ipython",
    "version": 3
   },
   "file_extension": ".py",
   "mimetype": "text/x-python",
   "name": "python",
   "nbconvert_exporter": "python",
   "pygments_lexer": "ipython3",
   "version": "3.5.2"
  }
 },
 "nbformat": 4,
 "nbformat_minor": 2
}
