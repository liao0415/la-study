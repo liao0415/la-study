{
 "cells": [
  {
   "cell_type": "markdown",
   "metadata": {},
   "source": [
    "# 迭代方法"
   ]
  },
  {
   "cell_type": "markdown",
   "metadata": {},
   "source": [
    "## Iterative methods to solve the linear operator equation\n",
    "$$\n",
    "Au = f\n",
    "$$"
   ]
  },
  {
   "cell_type": "markdown",
   "metadata": {},
   "source": [
    "1.Linear iterative methods"
   ]
  },
  {
   "cell_type": "markdown",
   "metadata": {},
   "source": [
    "1) The direct method to solve $Au = f$,  \n",
    "\n",
    "+ solve $A^{-1}$  \n",
    "\n",
    "+ Cramer's Rule\n",
    "\n",
    "+ Gaussian elimination or LU factorization"
   ]
  },
  {
   "cell_type": "markdown",
   "metadata": {},
   "source": [
    "2) Residual-Correction method  \n",
    "\n",
    "$\\mathbf I$. such iteration consists of three steps to get a new approximation $u_{k+1}$ from the current one $u_k$:  \n",
    "\n",
    "1. form the residual $r = f - Au_k$;\n",
    "2. compute a correction $e = Br$ with $B = A^{-1}$;\n",
    "3. correct next approximation $u_{k+1} = u_k + e$."
   ]
  },
  {
   "cell_type": "markdown",
   "metadata": {},
   "source": [
    "B is called iterator and assumed to be nonsingular.  \n"
   ]
  },
  {
   "cell_type": "markdown",
   "metadata": {},
   "source": [
    "residual-correction iterative method can be written as   \n",
    "\n",
    "$$\n",
    "u_{k+1} = u_k + B(f - Au_k).\n",
    "$$"
   ]
  },
  {
   "cell_type": "markdown",
   "metadata": {},
   "source": [
    "thus call linear iterative methods."
   ]
  },
  {
   "cell_type": "markdown",
   "metadata": {},
   "source": [
    " $f - Au$ in $ u = u + B(f - Au)$ is called residual. "
   ]
  },
  {
   "cell_type": "markdown",
   "metadata": {},
   "source": [
    "since the exact solution u is a fixed point, $u = u + B(f - Au) = (I - BA)u + Bf$. we then have the error formula  \n",
    "\n",
    "$$\n",
    "u - u_{k+1} = (I - BA)(u-u_k)\n",
    "$$"
   ]
  },
  {
   "cell_type": "markdown",
   "metadata": {},
   "source": [
    "The matrix S = I − BA will be called the iterative matrix which is also the amplification matrix for the error."
   ]
  },
  {
   "cell_type": "markdown",
   "metadata": {},
   "source": [
    "the notion of “efficient” implies two essential requirements:  \n",
    "\n",
    "(1) One iteration require only O(N ) operations.  \n",
    "\n",
    "(2) The rate of convergence is well below 1 and independent of N ."
   ]
  },
  {
   "cell_type": "markdown",
   "metadata": {},
   "source": [
    "$\\mathbf{II}$. splitting of A.  \n",
    "\n",
    "Let A = M - N with nonsingular M. Usually M is chosen as a dominant part comparing with N."
   ]
  },
  {
   "cell_type": "markdown",
   "metadata": {},
   "source": [
    "We rewrite the equation as  \n",
    "\n",
    "$$\n",
    "Mu - Nu = f,\n",
    "$$"
   ]
  },
  {
   "cell_type": "markdown",
   "metadata": {},
   "source": [
    "derive the iterative method  \n",
    "\n",
    "$$\n",
    "u_{k+1} = M^{-1}(Nu_k + f).\n",
    "$$"
   ]
  },
  {
   "cell_type": "markdown",
   "metadata": {},
   "source": [
    "Let $B = M^{-1}$ ,can make $\\mathbf{II} = \\mathbf I$"
   ]
  },
  {
   "cell_type": "markdown",
   "metadata": {},
   "source": [
    "3) Classic iterative methods."
   ]
  },
  {
   "cell_type": "markdown",
   "metadata": {},
   "source": [
    "consider the case $\\mathbb V = \\mathbb{R^N}$. We will derive several linear iterative method based on the splitting of  \n",
    "\n",
    "$$\n",
    "A = D + L + U\n",
    "$$\n",
    "\n",
    "Here D, L, U are diagonal matrix, lower triangular matrix and upper triangular matrix of A."
   ]
  },
  {
   "cell_type": "markdown",
   "metadata": {},
   "source": [
    "A list of iterators is:  \n",
    "\n",
    "+ Richardson  $\\,\\ B_R = ωI$  \n",
    "\n",
    "  + $u_{k+1} = u_k + \\omega(f - Au_k)$  \n",
    "  \n",
    "  where $\\omega$ is a scalar parameter that has to be chosen such that the sequence $x_k$ converges  \n",
    "  \n",
    "  \n",
    "  \n",
    "+ Jacobi $\\,\\ B_J = D^{-1}$  \n",
    "\n",
    "  + $u_{k+1} = u_k + D^{-1}(f - Au_k)$  \n",
    "  \n",
    "  \n",
    "  \n",
    "  \n",
    "  \n",
    "+ Weighted Jacobi $\\,\\ B_{DJ} = \\omega D^{-1}$  \n",
    "\n",
    "  + $x_{k+1} = (1-\\omega)u_k + \\omega D^{-1}(f - Au_k)$  \n",
    "  \n",
    "  \n",
    "  \n",
    "+ Forward Gauss-Seidel $\\,\\ B_{GS} = (D+L)^{-1}$  \n",
    "\n",
    "  + $u_{k+1} = u_k + (D+L)^{-1}(f - Au_k)$  \n",
    "  \n",
    "+ Backward Gauss-Seidel $\\,\\ B_{GS} = (D+U)^{-1}$  \n",
    "\n",
    "  + $u_{k+1} = u_k + (D+U)^{-1}(f - Au_k)$  \n",
    "  \n",
    "+ Symmetric Gauss-Seidel $\\,\\ B_{GS} = (D+U)^{-1}D(D+L)^{-1}$  \n",
    "\n",
    "  + $x_{k+1} = x_k +(D+U)^{-1}D(D+L)^{-1}(f - Au_k)$"
   ]
  },
  {
   "cell_type": "code",
   "execution_count": null,
   "metadata": {},
   "outputs": [],
   "source": []
  }
 ],
 "metadata": {
  "kernelspec": {
   "display_name": "Python 3",
   "language": "python",
   "name": "python3"
  },
  "language_info": {
   "codemirror_mode": {
    "name": "ipython",
    "version": 3
   },
   "file_extension": ".py",
   "mimetype": "text/x-python",
   "name": "python",
   "nbconvert_exporter": "python",
   "pygments_lexer": "ipython3",
   "version": "3.5.2"
  }
 },
 "nbformat": 4,
 "nbformat_minor": 2
}
