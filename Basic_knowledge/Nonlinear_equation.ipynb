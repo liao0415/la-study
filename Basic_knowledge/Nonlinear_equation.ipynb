{
 "cells": [
  {
   "cell_type": "markdown",
   "metadata": {},
   "source": [
    "# 非线性方程数值解法"
   ]
  },
  {
   "cell_type": "markdown",
   "metadata": {},
   "source": [
    "非线性方程组:\n",
    "\n",
    "$$f(x) = 0$$"
   ]
  },
  {
   "cell_type": "markdown",
   "metadata": {},
   "source": [
    "若 $f(x)$ 是多项式函数,当多项式的最高阶大于 3 的时候只能用一般的数值方法."
   ]
  },
  {
   "cell_type": "markdown",
   "metadata": {},
   "source": [
    "若是超越方程,例如  \n",
    "\n",
    "$$\n",
    "e^{-x/10}sin10x = 0\n",
    "$$"
   ]
  },
  {
   "cell_type": "markdown",
   "metadata": {},
   "source": [
    "在整个x轴上有无穷多个解,若x的取值范围不同的话,解也不同."
   ]
  },
  {
   "cell_type": "markdown",
   "metadata": {},
   "source": [
    "非线性方程一般不存在直接的求解公式,故没有直接方法求精确解,都要用迭代法求近似解."
   ]
  },
  {
   "cell_type": "markdown",
   "metadata": {},
   "source": [
    "#### Guass - Legendre 求积公式"
   ]
  },
  {
   "cell_type": "markdown",
   "metadata": {},
   "source": [
    "$$\n",
    "\\int_{-1}^1f(x)dx \\approx \\sum_{k = 1}^n A_{k}f(x_k)\n",
    "$$"
   ]
  },
  {
   "cell_type": "markdown",
   "metadata": {},
   "source": [
    "其中高斯点为 Legendre 多项式的零点  \n",
    "\n",
    "$$\n",
    "L_{n}(x) = \\frac{1}{2^n n!}\\cdot \\frac{d^n(x^2 -1)^n}{dx^n}\n",
    "$$"
   ]
  },
  {
   "cell_type": "markdown",
   "metadata": {},
   "source": [
    "高斯点 $x_k$, 高斯系数 $A_k$ 都有表可以查询."
   ]
  },
  {
   "cell_type": "markdown",
   "metadata": {},
   "source": [
    "1-D  \n",
    "[lambda,weight] = quadpts1(order)    "
   ]
  },
  {
   "cell_type": "markdown",
   "metadata": {},
   "source": [
    "2-D  \n",
    "[lambda,weight] = quadpts(order)"
   ]
  },
  {
   "cell_type": "markdown",
   "metadata": {},
   "source": [
    "对于一般有限区间 [a,b], 用线性变换 x = (a+b)/2+(b-a)t/2 使它变为 [-1,1]."
   ]
  },
  {
   "cell_type": "markdown",
   "metadata": {},
   "source": [
    "#### Gauss-Chebyshev 求积公式"
   ]
  },
  {
   "cell_type": "markdown",
   "metadata": {},
   "source": [
    "$$\n",
    "\\int_{-1}^1\\frac{f(x)}{\\sqrt(1-x^2)} \\approx \\sum_{k = 1}^nA_kf(x_k)\n",
    "$$"
   ]
  },
  {
   "cell_type": "markdown",
   "metadata": {},
   "source": [
    "其中高斯点为 Chebyshev 多项式 $T_n(x)$ 的零点"
   ]
  },
  {
   "cell_type": "markdown",
   "metadata": {},
   "source": [
    "$$\n",
    "T_n(x) = cos(narccos(x))\n",
    "$$\n",
    "\n",
    "$$\n",
    "x_k = cos\\frac{(2k-1)\\pi}{2n}\\,\\ ,A_k = \\frac{\\pi}{n}\n",
    "$$"
   ]
  },
  {
   "cell_type": "markdown",
   "metadata": {},
   "source": [
    "#### Gauss-Laguerre 求积公式"
   ]
  },
  {
   "cell_type": "markdown",
   "metadata": {},
   "source": [
    "$$\n",
    "\\int_{0}^{+\\infty}e^{-x}f(x)dx \\approx \\sum_{k = 0}^n A_kf(x_k)\n",
    "$$"
   ]
  },
  {
   "cell_type": "markdown",
   "metadata": {},
   "source": [
    "其中高斯点 $x_k$ 是Laguerre 多项式上的零点\n",
    "\n",
    "$$\n",
    "L_n(x) = e^x \\frac{d^n}{dx^n}(x^ne^{-x})\n",
    "$$"
   ]
  },
  {
   "cell_type": "markdown",
   "metadata": {},
   "source": [
    "系数为\n",
    "\n",
    "$$\n",
    "A_k = \\frac{[(n+1)!]^2x_k}{[L_{n+1}(x_k)]^2}\n",
    "$$"
   ]
  },
  {
   "cell_type": "markdown",
   "metadata": {},
   "source": [
    "#### Gauss-Hermite 求积公式"
   ]
  },
  {
   "cell_type": "markdown",
   "metadata": {},
   "source": [
    "$$\n",
    "\\int_{-\\infty}^{+\\infty}e^{-x^2}f(x)dx \\approx \\sum_{k=0}^n A_kf(x_k)\n",
    "$$"
   ]
  },
  {
   "cell_type": "markdown",
   "metadata": {},
   "source": [
    "#### "
   ]
  }
 ],
 "metadata": {
  "kernelspec": {
   "display_name": "Python 3",
   "language": "python",
   "name": "python3"
  },
  "language_info": {
   "codemirror_mode": {
    "name": "ipython",
    "version": 3
   },
   "file_extension": ".py",
   "mimetype": "text/x-python",
   "name": "python",
   "nbconvert_exporter": "python",
   "pygments_lexer": "ipython3",
   "version": "3.5.2"
  }
 },
 "nbformat": 4,
 "nbformat_minor": 2
}
